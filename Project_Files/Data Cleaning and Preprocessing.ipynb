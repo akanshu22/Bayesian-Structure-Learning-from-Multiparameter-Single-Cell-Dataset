{
 "cells": [
  {
   "cell_type": "code",
   "execution_count": 128,
   "metadata": {
    "collapsed": true
   },
   "outputs": [],
   "source": [
    "import pandas as pd\n",
    "import glob\n",
    "import pickle,random"
   ]
  },
  {
   "cell_type": "code",
   "execution_count": 165,
   "metadata": {
    "collapsed": false
   },
   "outputs": [
    {
     "data": {
      "text/plain": [
       "['Sachs.SOM.Datasets\\\\Data Files\\\\1. cd3cd28.xls',\n",
       " 'Sachs.SOM.Datasets\\\\Data Files\\\\10. cd3cd28icam2+aktinhib.xls',\n",
       " 'Sachs.SOM.Datasets\\\\Data Files\\\\11. cd3cd28icam2+g0076.xls',\n",
       " 'Sachs.SOM.Datasets\\\\Data Files\\\\12. cd3cd28icam2+psit.xls',\n",
       " 'Sachs.SOM.Datasets\\\\Data Files\\\\13. cd3cd28icam2+u0126.xls',\n",
       " 'Sachs.SOM.Datasets\\\\Data Files\\\\14. cd3cd28icam2+ly.xls',\n",
       " 'Sachs.SOM.Datasets\\\\Data Files\\\\2. cd3cd28icam2.xls',\n",
       " 'Sachs.SOM.Datasets\\\\Data Files\\\\3. cd3cd28+aktinhib.xls',\n",
       " 'Sachs.SOM.Datasets\\\\Data Files\\\\4. cd3cd28+g0076.xls',\n",
       " 'Sachs.SOM.Datasets\\\\Data Files\\\\5. cd3cd28+psitect.xls',\n",
       " 'Sachs.SOM.Datasets\\\\Data Files\\\\6. cd3cd28+u0126.xls',\n",
       " 'Sachs.SOM.Datasets\\\\Data Files\\\\7. cd3cd28+ly.xls',\n",
       " 'Sachs.SOM.Datasets\\\\Data Files\\\\8. pma.xls',\n",
       " 'Sachs.SOM.Datasets\\\\Data Files\\\\9. b2camp.xls']"
      ]
     },
     "execution_count": 165,
     "metadata": {},
     "output_type": "execute_result"
    }
   ],
   "source": [
    "dataset_files = glob.glob(\"Sachs.SOM.Datasets\\\\Data Files\\\\*.xls\")\n",
    "nodes_domain = [\"low\",\"medium\",\"high\"]\n",
    "coloumns = ['praf',\n",
    " 'pmek',\n",
    " 'plcg',\n",
    " 'PIP2',\n",
    " 'PIP3',\n",
    " 'p44/42',\n",
    " 'pakts473',\n",
    " 'PKA',\n",
    " 'PKC',\n",
    " 'P38',\n",
    " 'pjnk']\n",
    "dataset_files"
   ]
  },
  {
   "cell_type": "code",
   "execution_count": 157,
   "metadata": {
    "collapsed": true
   },
   "outputs": [],
   "source": [
    "def removeOutliers(df):\n",
    "    limit = df.mean() + 3*df.std()\n",
    "    df = df[df.apply(lambda x: x[0]<limit[0] and x[1]<limit[1] and x[2]<limit[2] and x[3]<limit[3] and x[4]<limit[4] and x[5]<limit[5] and x[6]<limit[6] and x[7]<limit[7] and x[8]<limit[8] and x[9]<limit[9] and x[10]<limit[10], axis=1)]\n",
    "    return df"
   ]
  },
  {
   "cell_type": "code",
   "execution_count": 131,
   "metadata": {
    "collapsed": true
   },
   "outputs": [],
   "source": [
    "def discretizeData(df):\n",
    "    df = df.apply(lambda x: pd.cut(x,3,labels=nodes_domain),axis=0).reset_index(drop=True)\n",
    "    return df"
   ]
  },
  {
   "cell_type": "code",
   "execution_count": 132,
   "metadata": {
    "collapsed": true
   },
   "outputs": [],
   "source": [
    "def readData(dataset_files):\n",
    "    df = []\n",
    "    for i,file in enumerate(dataset_files):\n",
    "        try:\n",
    "            dframe = removeOutliers(pd.read_excel(open(dataset_files[i],'rb'), sheetname='Sheet1'))\n",
    "            dframe = discretizeData(dframe)\n",
    "            df.append(dframe)\n",
    "        except:\n",
    "            continue\n",
    "    return df"
   ]
  },
  {
   "cell_type": "code",
   "execution_count": 166,
   "metadata": {
    "collapsed": false
   },
   "outputs": [],
   "source": [
    "df_list = readData(dataset_files)\n",
    "#df_list[0]"
   ]
  },
  {
   "cell_type": "code",
   "execution_count": 167,
   "metadata": {
    "collapsed": false
   },
   "outputs": [
    {
     "data": {
      "text/html": [
       "<div>\n",
       "<table border=\"1\" class=\"dataframe\">\n",
       "  <thead>\n",
       "    <tr style=\"text-align: right;\">\n",
       "      <th></th>\n",
       "      <th>praf</th>\n",
       "      <th>pmek</th>\n",
       "      <th>plcg</th>\n",
       "      <th>PIP2</th>\n",
       "      <th>PIP3</th>\n",
       "      <th>p44/42</th>\n",
       "      <th>pakts473</th>\n",
       "      <th>PKA</th>\n",
       "      <th>PKC</th>\n",
       "      <th>P38</th>\n",
       "      <th>pjnk</th>\n",
       "    </tr>\n",
       "  </thead>\n",
       "  <tbody>\n",
       "    <tr>\n",
       "      <th>count</th>\n",
       "      <td>776</td>\n",
       "      <td>776</td>\n",
       "      <td>776</td>\n",
       "      <td>776</td>\n",
       "      <td>776</td>\n",
       "      <td>776</td>\n",
       "      <td>776</td>\n",
       "      <td>776</td>\n",
       "      <td>776</td>\n",
       "      <td>776</td>\n",
       "      <td>776</td>\n",
       "    </tr>\n",
       "    <tr>\n",
       "      <th>unique</th>\n",
       "      <td>3</td>\n",
       "      <td>3</td>\n",
       "      <td>3</td>\n",
       "      <td>3</td>\n",
       "      <td>3</td>\n",
       "      <td>3</td>\n",
       "      <td>3</td>\n",
       "      <td>3</td>\n",
       "      <td>3</td>\n",
       "      <td>3</td>\n",
       "      <td>3</td>\n",
       "    </tr>\n",
       "    <tr>\n",
       "      <th>top</th>\n",
       "      <td>low</td>\n",
       "      <td>low</td>\n",
       "      <td>low</td>\n",
       "      <td>low</td>\n",
       "      <td>low</td>\n",
       "      <td>low</td>\n",
       "      <td>low</td>\n",
       "      <td>low</td>\n",
       "      <td>low</td>\n",
       "      <td>low</td>\n",
       "      <td>low</td>\n",
       "    </tr>\n",
       "    <tr>\n",
       "      <th>freq</th>\n",
       "      <td>537</td>\n",
       "      <td>592</td>\n",
       "      <td>652</td>\n",
       "      <td>568</td>\n",
       "      <td>605</td>\n",
       "      <td>503</td>\n",
       "      <td>613</td>\n",
       "      <td>607</td>\n",
       "      <td>686</td>\n",
       "      <td>659</td>\n",
       "      <td>659</td>\n",
       "    </tr>\n",
       "  </tbody>\n",
       "</table>\n",
       "</div>"
      ],
      "text/plain": [
       "       praf pmek plcg PIP2 PIP3 p44/42 pakts473  PKA  PKC  P38 pjnk\n",
       "count   776  776  776  776  776    776      776  776  776  776  776\n",
       "unique    3    3    3    3    3      3        3    3    3    3    3\n",
       "top     low  low  low  low  low    low      low  low  low  low  low\n",
       "freq    537  592  652  568  605    503      613  607  686  659  659"
      ]
     },
     "execution_count": 167,
     "metadata": {},
     "output_type": "execute_result"
    }
   ],
   "source": [
    "df_list[1].describe()"
   ]
  },
  {
   "cell_type": "code",
   "execution_count": 168,
   "metadata": {
    "collapsed": true
   },
   "outputs": [],
   "source": [
    "with open(\"df_list.pickle\",\"wb\") as file:\n",
    "    pickle.dump(df_list,file)"
   ]
  },
  {
   "cell_type": "code",
   "execution_count": 171,
   "metadata": {
    "collapsed": false
   },
   "outputs": [],
   "source": [
    "def readNaiveData(dataset_files,flag=True):\n",
    "    df = []\n",
    "    for i,file in enumerate(dataset_files):\n",
    "            if flag:\n",
    "                dframe = pd.read_excel(open(file,'rb'), sheetname='Sheet1',names=coloumns)\n",
    "            else:\n",
    "                dframe = removeOutliers(pd.read_excel(open(file,'rb'), sheetname='Sheet1',names=coloumns))\n",
    "            df.append(dframe)\n",
    "    return df"
   ]
  },
  {
   "cell_type": "code",
   "execution_count": 178,
   "metadata": {
    "collapsed": false
   },
   "outputs": [],
   "source": [
    "def generateSimulatedWesternBlotDataset(df_list,coloumns,n=10):\n",
    "    file_dir = \"Datasets\\\\SimulatedWesternBlot\\\\\"\n",
    "    for dataset in range(n):\n",
    "        l = []\n",
    "        for j in df_list:\n",
    "            for i in range(30):\n",
    "                row_index = random.sample(list(j.index), 20)\n",
    "                l.append(tuple(j.ix[row_index].mean()))\n",
    "        d = pd.DataFrame(l,columns=coloumns)\n",
    "        dframe = discretizeData(d)\n",
    "        with open(file_dir+str(dataset+1)+\".pkl\",\"wb\") as file:\n",
    "            pickle.dump(dframe,file)"
   ]
  },
  {
   "cell_type": "code",
   "execution_count": 179,
   "metadata": {
    "collapsed": false
   },
   "outputs": [],
   "source": [
    "generateSimulatedWesternBlotDataset(readNaiveData(dataset_files,flag=False),coloumns)"
   ]
  },
  {
   "cell_type": "code",
   "execution_count": 180,
   "metadata": {
    "collapsed": true
   },
   "outputs": [],
   "source": [
    "def generateTruncatedDataset(df_list,coloumns,n=10):\n",
    "    file_dir = \"Datasets\\\\Truncated\\\\\"\n",
    "    for dataset in range(n):\n",
    "        l = []\n",
    "        for df in df_list:\n",
    "            row_index = random.sample(list(df.index), 30)\n",
    "            l.append(df.ix[row_index])\n",
    "        dframe = discretizeData(pd.concat(l))\n",
    "        with open(file_dir+str(dataset+1)+\".pkl\",\"wb\") as file:\n",
    "            pickle.dump(dframe,file)"
   ]
  },
  {
   "cell_type": "code",
   "execution_count": 181,
   "metadata": {
    "collapsed": true
   },
   "outputs": [],
   "source": [
    "generateTruncatedDataset(readNaiveData(dataset_files,flag=False),coloumns)"
   ]
  },
  {
   "cell_type": "code",
   "execution_count": 184,
   "metadata": {
    "collapsed": false
   },
   "outputs": [],
   "source": [
    "def generateCompleteDataset(df_list,coloumns):\n",
    "    file_dir = \"Datasets\\\\Combined\\\\\"\n",
    "    for i in range(len(df_list)):\n",
    "        row_index = random.sample(list(df_list[i].index), 600)\n",
    "        df_list[i] = df_list[i].ix[row_index]\n",
    "        \n",
    "    #dframe = discretizeData(removeOutliers(pd.concat(df_list)))\n",
    "    dframe = pd.concat(df_list)\n",
    "    with open(file_dir+\"completeDataset.pkl\",\"wb\") as file:\n",
    "        pickle.dump(dframe,file)"
   ]
  },
  {
   "cell_type": "code",
   "execution_count": 185,
   "metadata": {
    "collapsed": false
   },
   "outputs": [],
   "source": [
    "generateCompleteDataset(df_list,coloumns)"
   ]
  }
 ],
 "metadata": {
  "anaconda-cloud": {},
  "kernelspec": {
   "display_name": "Python [default]",
   "language": "python",
   "name": "python3"
  },
  "language_info": {
   "codemirror_mode": {
    "name": "ipython",
    "version": 3
   },
   "file_extension": ".py",
   "mimetype": "text/x-python",
   "name": "python",
   "nbconvert_exporter": "python",
   "pygments_lexer": "ipython3",
   "version": "3.5.2"
  }
 },
 "nbformat": 4,
 "nbformat_minor": 1
}
